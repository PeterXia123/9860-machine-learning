{
 "cells": [
  {
   "cell_type": "markdown",
   "metadata": {},
   "source": [
    "<center><font size=\"6\">Titanic Survival analysis</font></center>\n",
    "<br>\n",
    "\n",
    "\n",
    "> 0. [Background knowledge and problem discussion](#0-bullet) <br>\n",
    "> 1. [Import Data & Python Packages](#1-bullet) <br>\n",
    "> 2. [Data cleaning](#2-bullet) <br>\n",
    ">     * [2.1 Drop unnessary columns](#2.1-bullet) <br>\n",
    ">     * [2.2 Find the columns with missing values](#2.2-bullet) <br>\n",
    ">     * [2.3 Missing values in Cabin](#2.3-bullet) <br>\n",
    ">     * [2.4 Missing values in Embarked](#2.4-bullet) <br> \n",
    ">     * [2.5 Missing values in Age, Fare](#2.5-bullet) <br>\n",
    ">     * [2.6 Extract the response variable in training set](#2.6-bullet) <br> \n",
    "> 3. [Exploratory Data Analysis](#3-bullet) <br> \n",
    ">     * [3.1 Age vs Survival](#3.1-bullet) <br>\n",
    ">     * [3.2 Fare vs Survival](#3.2-bullet) <br>\n",
    ">     * [3.3 Pclass vs Survival](#3.3-bullet) <br>\n",
    ">     * [3.4 Embarked vs Survival](#3.4-bullet) <br>\n",
    ">     * [3.5 With_cabin vs Survival](#3.3-bullet) <br>\n",
    ">     * [3.6 Correlation plot](#3.4-bullet) <br>\n",
    "> 4. [Pre-processing before fitting the model](#4-bullet) <br>\n",
    "> 5. [Logistic Regression](#5-bullet) <br>\n",
    ">     * [5.1 Fitting the model](#5.1-bullet) <br>\n",
    ">     * [5.2 Calculation the  cross validation accuracy](#5.2-bullet) <br>\n",
    ">     * [5.3 Fine-tune the logistic model using grid search](#5.3-bullet) <br>\n",
    ">     * [5.4  find the  $\\lambda$ optimize the model and plot the accuracy](#5.4-bullet) <br>\n",
    "> 6. [Random Forest](#7-bullet) <br>\n",
    ">     * [6.1 Fitting the model](#7.1-bullet) <br>\n",
    ">     * [6.2 Calculation the  cross validation accuracy ](#7.2-bullet) <br>\n",
    ">     * [6.3 Fine-tune  the RF using grid search ](#7.3-bullet) <br>\n",
    ">     * [6.4 Find the optimized set of  parameter](#7.4-bullet) <br>\n",
    "> 7. [Support Vector Machine](#7-bullet) <br>\n",
    ">     * [7.1 Fitting the model](#7.1-bullet) <br>\n",
    ">     * [7.2 Calculation the  cross validation accuracy](#7.2-bullet) <br>\n",
    ">     * [7.3 Fine-tune  the SVM using grid search ](#7.3-bullet) <br>\n",
    ">     * [7.4 Find the  set of  parameter](#7.4-bullet) <br>\n",
    "> 8. [Naive Bayes](#8-bullet) <br>\n",
    ">     * [8.1 Fitting the model](#8.1-bullet) <br>\n",
    ">     * [8.2 Calculation the  cross validation accuracy](#8.2-bullet) <br>\n",
    ">     * [8.3 Fine-tune  the NB moedel using grid search ](#8.3-bullet) <br>\n",
    ">     * [8.4 Find the set of  parameter](#8.4-bullet) <br>\n",
    "> 9. [Multi-layer Perceptron](#9-bullet) <br>\n",
    ">     * [9.1 Fitting the model](#9.1-bullet) <br>\n",
    ">     * [9.2 Calculation the  cross validation accuracy](#9.2-bullet) <br>\n",
    ">     * [9.3 Fine-tune the Multi-layer Perceptron model using grid search ](#9.3-bullet) <br>\n",
    ">     * [9.4 Find the set of  parameter](#9.4-bullet) <br>\n",
    "> 10. [Write the output](#10-bullet) <br>\n",
    "> 10. [Reference](#11-bullet) <br>\n",
    "\n"
   ]
  },
  {
   "cell_type": "markdown",
   "metadata": {},
   "source": [
    "## Background knowledge and problem discussion  <a class=\"anchor\" id=\"0-bullet\"></a>"
   ]
  },
  {
   "cell_type": "markdown",
   "metadata": {},
   "source": [
    "The sinking of the Titanic is one of the most tragic shipwrecks in history.On April 15, 1912, during her first voyage, the widely considered “unbreakable” RMS Titanic sank after colliding with an iceberg. Unfortunately, there weren’t enough lifeboats for everyone onboard, resulting in the death of 1502 out of 2224 passengers and crew.\n",
    "While there was some lucky guy who survivied, it seems some groups of people were more likely to survive than others. so we want to investigate which features does certain people have so they can better survive than others.\n",
    "\n",
    "In our dataset, we are given the response variable \"Survived\". and 0 means dead, 1 means survived.\n",
    "We want to solve this classification problem by fitting different machine learning model and fine-tune the model parameter. \n",
    "\n",
    "we mainly do our data anlysis report on five procedures based on kaggle competition requirement.\n",
    "1. Question or problem definition.\n",
    "2. Acquire training and testing data.\n",
    "3. Wrangle, prepare, cleanse the data.\n",
    "4. Analyze, identify patterns, and explore the data.\n",
    "5. Model, predict and solve the problem.\n",
    "6. Visualize, report, and present the problem solving steps and final solution.\n",
    "\n"
   ]
  },
  {
   "cell_type": "markdown",
   "metadata": {},
   "source": [
    "## Import Data and Packages <a class=\"anchor\" id=\"1-bullet\"></a>"
   ]
  },
  {
   "cell_type": "code",
   "execution_count": 61,
   "metadata": {},
   "outputs": [],
   "source": [
    "# importing libraries\n",
    "import pandas as pd\n",
    "import numpy as np\n",
    "import seaborn as sns\n",
    "from sklearn.pipeline import Pipeline\n",
    "from sklearn.preprocessing import StandardScaler\n",
    "from sklearn.impute import SimpleImputer\n",
    "from sklearn.linear_model import LinearRegression\n",
    "from sklearn.linear_model import LogisticRegression\n",
    "from sklearn.metrics import recall_score, make_scorer, confusion_matrix,accuracy_score\n",
    "from sklearn.model_selection import train_test_split, cross_val_score, GridSearchCV\n",
    "from sklearn.tree import DecisionTreeClassifier, DecisionTreeRegressor, export_graphviz\n",
    "from sklearn.ensemble import BaggingClassifier, RandomForestClassifier, BaggingRegressor, RandomForestRegressor\n",
    "import sklearn.svm as svm\n",
    "import matplotlib.pyplot as plt\n",
    "from sklearn.pipeline import FeatureUnion\n",
    "from sklearn.base import BaseEstimator, TransformerMixin\n",
    "from sklearn.preprocessing import LabelBinarizer\n",
    "from sklearn.metrics import confusion_matrix\n",
    "from sklearn.metrics import plot_confusion_matrix\n",
    "from sklearn.naive_bayes import GaussianNB\n",
    "from sklearn.neural_network import MLPClassifier\n",
    "from sklearn.compose import ColumnTransformer\n",
    "from sklearn.preprocessing import OneHotEncoder\n",
    "import warnings\n",
    "warnings.filterwarnings('ignore')\n",
    "\n",
    "%matplotlib inline"
   ]
  },
  {
   "cell_type": "code",
   "execution_count": 96,
   "metadata": {},
   "outputs": [],
   "source": [
    "class DataFrameSelector(BaseEstimator, TransformerMixin):\n",
    "    def __init__(self, attribute_names):\n",
    "        self.attribute_names = attribute_names\n",
    "    def fit(self, X, y=None):\n",
    "        return self\n",
    "    def transform(self, X):\n",
    "        return X[self.attribute_names].values"
   ]
  },
  {
   "cell_type": "code",
   "execution_count": 97,
   "metadata": {},
   "outputs": [],
   "source": [
    "train_data = pd.read_csv(\"train.csv\")\n",
    "test_data = pd.read_csv(\"test.csv\")"
   ]
  },
  {
   "cell_type": "code",
   "execution_count": 98,
   "metadata": {},
   "outputs": [
    {
     "data": {
      "text/html": [
       "<div>\n",
       "<style scoped>\n",
       "    .dataframe tbody tr th:only-of-type {\n",
       "        vertical-align: middle;\n",
       "    }\n",
       "\n",
       "    .dataframe tbody tr th {\n",
       "        vertical-align: top;\n",
       "    }\n",
       "\n",
       "    .dataframe thead th {\n",
       "        text-align: right;\n",
       "    }\n",
       "</style>\n",
       "<table border=\"1\" class=\"dataframe\">\n",
       "  <thead>\n",
       "    <tr style=\"text-align: right;\">\n",
       "      <th></th>\n",
       "      <th>PassengerId</th>\n",
       "      <th>Survived</th>\n",
       "      <th>Pclass</th>\n",
       "      <th>Name</th>\n",
       "      <th>Sex</th>\n",
       "      <th>Age</th>\n",
       "      <th>SibSp</th>\n",
       "      <th>Parch</th>\n",
       "      <th>Ticket</th>\n",
       "      <th>Fare</th>\n",
       "      <th>Cabin</th>\n",
       "      <th>Embarked</th>\n",
       "    </tr>\n",
       "  </thead>\n",
       "  <tbody>\n",
       "    <tr>\n",
       "      <th>0</th>\n",
       "      <td>1</td>\n",
       "      <td>0</td>\n",
       "      <td>3</td>\n",
       "      <td>Braund, Mr. Owen Harris</td>\n",
       "      <td>male</td>\n",
       "      <td>22.0</td>\n",
       "      <td>1</td>\n",
       "      <td>0</td>\n",
       "      <td>A/5 21171</td>\n",
       "      <td>7.2500</td>\n",
       "      <td>NaN</td>\n",
       "      <td>S</td>\n",
       "    </tr>\n",
       "    <tr>\n",
       "      <th>1</th>\n",
       "      <td>2</td>\n",
       "      <td>1</td>\n",
       "      <td>1</td>\n",
       "      <td>Cumings, Mrs. John Bradley (Florence Briggs Th...</td>\n",
       "      <td>female</td>\n",
       "      <td>38.0</td>\n",
       "      <td>1</td>\n",
       "      <td>0</td>\n",
       "      <td>PC 17599</td>\n",
       "      <td>71.2833</td>\n",
       "      <td>C85</td>\n",
       "      <td>C</td>\n",
       "    </tr>\n",
       "    <tr>\n",
       "      <th>2</th>\n",
       "      <td>3</td>\n",
       "      <td>1</td>\n",
       "      <td>3</td>\n",
       "      <td>Heikkinen, Miss. Laina</td>\n",
       "      <td>female</td>\n",
       "      <td>26.0</td>\n",
       "      <td>0</td>\n",
       "      <td>0</td>\n",
       "      <td>STON/O2. 3101282</td>\n",
       "      <td>7.9250</td>\n",
       "      <td>NaN</td>\n",
       "      <td>S</td>\n",
       "    </tr>\n",
       "    <tr>\n",
       "      <th>3</th>\n",
       "      <td>4</td>\n",
       "      <td>1</td>\n",
       "      <td>1</td>\n",
       "      <td>Futrelle, Mrs. Jacques Heath (Lily May Peel)</td>\n",
       "      <td>female</td>\n",
       "      <td>35.0</td>\n",
       "      <td>1</td>\n",
       "      <td>0</td>\n",
       "      <td>113803</td>\n",
       "      <td>53.1000</td>\n",
       "      <td>C123</td>\n",
       "      <td>S</td>\n",
       "    </tr>\n",
       "    <tr>\n",
       "      <th>4</th>\n",
       "      <td>5</td>\n",
       "      <td>0</td>\n",
       "      <td>3</td>\n",
       "      <td>Allen, Mr. William Henry</td>\n",
       "      <td>male</td>\n",
       "      <td>35.0</td>\n",
       "      <td>0</td>\n",
       "      <td>0</td>\n",
       "      <td>373450</td>\n",
       "      <td>8.0500</td>\n",
       "      <td>NaN</td>\n",
       "      <td>S</td>\n",
       "    </tr>\n",
       "  </tbody>\n",
       "</table>\n",
       "</div>"
      ],
      "text/plain": [
       "   PassengerId  Survived  Pclass  \\\n",
       "0            1         0       3   \n",
       "1            2         1       1   \n",
       "2            3         1       3   \n",
       "3            4         1       1   \n",
       "4            5         0       3   \n",
       "\n",
       "                                                Name     Sex   Age  SibSp  \\\n",
       "0                            Braund, Mr. Owen Harris    male  22.0      1   \n",
       "1  Cumings, Mrs. John Bradley (Florence Briggs Th...  female  38.0      1   \n",
       "2                             Heikkinen, Miss. Laina  female  26.0      0   \n",
       "3       Futrelle, Mrs. Jacques Heath (Lily May Peel)  female  35.0      1   \n",
       "4                           Allen, Mr. William Henry    male  35.0      0   \n",
       "\n",
       "   Parch            Ticket     Fare Cabin Embarked  \n",
       "0      0         A/5 21171   7.2500   NaN        S  \n",
       "1      0          PC 17599  71.2833   C85        C  \n",
       "2      0  STON/O2. 3101282   7.9250   NaN        S  \n",
       "3      0            113803  53.1000  C123        S  \n",
       "4      0            373450   8.0500   NaN        S  "
      ]
     },
     "execution_count": 98,
     "metadata": {},
     "output_type": "execute_result"
    }
   ],
   "source": [
    "train_data.head()\n",
    "\n",
    "\n"
   ]
  },
  {
   "cell_type": "code",
   "execution_count": 99,
   "metadata": {},
   "outputs": [
    {
     "data": {
      "text/html": [
       "<div>\n",
       "<style scoped>\n",
       "    .dataframe tbody tr th:only-of-type {\n",
       "        vertical-align: middle;\n",
       "    }\n",
       "\n",
       "    .dataframe tbody tr th {\n",
       "        vertical-align: top;\n",
       "    }\n",
       "\n",
       "    .dataframe thead th {\n",
       "        text-align: right;\n",
       "    }\n",
       "</style>\n",
       "<table border=\"1\" class=\"dataframe\">\n",
       "  <thead>\n",
       "    <tr style=\"text-align: right;\">\n",
       "      <th></th>\n",
       "      <th>PassengerId</th>\n",
       "      <th>Pclass</th>\n",
       "      <th>Name</th>\n",
       "      <th>Sex</th>\n",
       "      <th>Age</th>\n",
       "      <th>SibSp</th>\n",
       "      <th>Parch</th>\n",
       "      <th>Ticket</th>\n",
       "      <th>Fare</th>\n",
       "      <th>Cabin</th>\n",
       "      <th>Embarked</th>\n",
       "    </tr>\n",
       "  </thead>\n",
       "  <tbody>\n",
       "    <tr>\n",
       "      <th>0</th>\n",
       "      <td>892</td>\n",
       "      <td>3</td>\n",
       "      <td>Kelly, Mr. James</td>\n",
       "      <td>male</td>\n",
       "      <td>34.5</td>\n",
       "      <td>0</td>\n",
       "      <td>0</td>\n",
       "      <td>330911</td>\n",
       "      <td>7.8292</td>\n",
       "      <td>NaN</td>\n",
       "      <td>Q</td>\n",
       "    </tr>\n",
       "    <tr>\n",
       "      <th>1</th>\n",
       "      <td>893</td>\n",
       "      <td>3</td>\n",
       "      <td>Wilkes, Mrs. James (Ellen Needs)</td>\n",
       "      <td>female</td>\n",
       "      <td>47.0</td>\n",
       "      <td>1</td>\n",
       "      <td>0</td>\n",
       "      <td>363272</td>\n",
       "      <td>7.0000</td>\n",
       "      <td>NaN</td>\n",
       "      <td>S</td>\n",
       "    </tr>\n",
       "    <tr>\n",
       "      <th>2</th>\n",
       "      <td>894</td>\n",
       "      <td>2</td>\n",
       "      <td>Myles, Mr. Thomas Francis</td>\n",
       "      <td>male</td>\n",
       "      <td>62.0</td>\n",
       "      <td>0</td>\n",
       "      <td>0</td>\n",
       "      <td>240276</td>\n",
       "      <td>9.6875</td>\n",
       "      <td>NaN</td>\n",
       "      <td>Q</td>\n",
       "    </tr>\n",
       "    <tr>\n",
       "      <th>3</th>\n",
       "      <td>895</td>\n",
       "      <td>3</td>\n",
       "      <td>Wirz, Mr. Albert</td>\n",
       "      <td>male</td>\n",
       "      <td>27.0</td>\n",
       "      <td>0</td>\n",
       "      <td>0</td>\n",
       "      <td>315154</td>\n",
       "      <td>8.6625</td>\n",
       "      <td>NaN</td>\n",
       "      <td>S</td>\n",
       "    </tr>\n",
       "    <tr>\n",
       "      <th>4</th>\n",
       "      <td>896</td>\n",
       "      <td>3</td>\n",
       "      <td>Hirvonen, Mrs. Alexander (Helga E Lindqvist)</td>\n",
       "      <td>female</td>\n",
       "      <td>22.0</td>\n",
       "      <td>1</td>\n",
       "      <td>1</td>\n",
       "      <td>3101298</td>\n",
       "      <td>12.2875</td>\n",
       "      <td>NaN</td>\n",
       "      <td>S</td>\n",
       "    </tr>\n",
       "  </tbody>\n",
       "</table>\n",
       "</div>"
      ],
      "text/plain": [
       "   PassengerId  Pclass                                          Name     Sex  \\\n",
       "0          892       3                              Kelly, Mr. James    male   \n",
       "1          893       3              Wilkes, Mrs. James (Ellen Needs)  female   \n",
       "2          894       2                     Myles, Mr. Thomas Francis    male   \n",
       "3          895       3                              Wirz, Mr. Albert    male   \n",
       "4          896       3  Hirvonen, Mrs. Alexander (Helga E Lindqvist)  female   \n",
       "\n",
       "    Age  SibSp  Parch   Ticket     Fare Cabin Embarked  \n",
       "0  34.5      0      0   330911   7.8292   NaN        Q  \n",
       "1  47.0      1      0   363272   7.0000   NaN        S  \n",
       "2  62.0      0      0   240276   9.6875   NaN        Q  \n",
       "3  27.0      0      0   315154   8.6625   NaN        S  \n",
       "4  22.0      1      1  3101298  12.2875   NaN        S  "
      ]
     },
     "execution_count": 99,
     "metadata": {},
     "output_type": "execute_result"
    }
   ],
   "source": [
    "test_data.head()"
   ]
  },
  {
   "cell_type": "markdown",
   "metadata": {},
   "source": [
    "## Data cleaning <a class=\"anchor\" id=\"2-bullet\"></a>"
   ]
  },
  {
   "cell_type": "markdown",
   "metadata": {},
   "source": [
    "### 2.1    Drop unnessary columns <a class=\"anchor\" id=\"2.1-bullet\"></a>"
   ]
  },
  {
   "cell_type": "markdown",
   "metadata": {},
   "source": [
    "> We can see that the `name` the `ticket number`and `passenager` has nothing to do with the survival rate, so we drop those three columns."
   ]
  },
  {
   "cell_type": "code",
   "execution_count": 101,
   "metadata": {},
   "outputs": [],
   "source": [
    "\n",
    "train_passid = train_data[\"PassengerId\"]\n",
    "test_passid = test_data[\"PassengerId\"]\n",
    "train_data = train_data.drop([\"Name\",\"Ticket\",\"PassengerId\"],axis = 1)\n",
    "test_data = test_data.drop([\"Name\",\"Ticket\",\"PassengerId\"],axis = 1)\n",
    "\n"
   ]
  },
  {
   "cell_type": "markdown",
   "metadata": {},
   "source": [
    "### 2.2    Find the columns with missing values <a class=\"anchor\" id=\"2.2-bullet\"></a>"
   ]
  },
  {
   "cell_type": "code",
   "execution_count": 67,
   "metadata": {
    "scrolled": true
   },
   "outputs": [
    {
     "data": {
      "text/plain": [
       "Survived    False\n",
       "Pclass      False\n",
       "Sex         False\n",
       "Age          True\n",
       "SibSp       False\n",
       "Parch       False\n",
       "Fare        False\n",
       "Cabin        True\n",
       "Embarked     True\n",
       "dtype: bool"
      ]
     },
     "execution_count": 67,
     "metadata": {},
     "output_type": "execute_result"
    }
   ],
   "source": [
    "train_data.isnull().any()\n",
    "\n"
   ]
  },
  {
   "cell_type": "code",
   "execution_count": 68,
   "metadata": {},
   "outputs": [
    {
     "data": {
      "text/plain": [
       "Age         177\n",
       "Cabin       687\n",
       "Embarked      2\n",
       "dtype: int64"
      ]
     },
     "execution_count": 68,
     "metadata": {},
     "output_type": "execute_result"
    }
   ],
   "source": [
    "null_columns = train_data.columns[train_data.isnull().any()]\n",
    "train_data[null_columns].isnull().sum()\n"
   ]
  },
  {
   "cell_type": "markdown",
   "metadata": {},
   "source": [
    "> We can see that for the training data,  the `Age` the `Cabin`and `Embarked` has missing values."
   ]
  },
  {
   "cell_type": "code",
   "execution_count": 69,
   "metadata": {},
   "outputs": [
    {
     "data": {
      "text/plain": [
       "Pclass      False\n",
       "Sex         False\n",
       "Age          True\n",
       "SibSp       False\n",
       "Parch       False\n",
       "Fare         True\n",
       "Cabin        True\n",
       "Embarked    False\n",
       "dtype: bool"
      ]
     },
     "execution_count": 69,
     "metadata": {},
     "output_type": "execute_result"
    }
   ],
   "source": [
    "test_data.isnull().any()\n"
   ]
  },
  {
   "cell_type": "code",
   "execution_count": 70,
   "metadata": {},
   "outputs": [
    {
     "data": {
      "text/plain": [
       "Age       86\n",
       "Fare       1\n",
       "Cabin    327\n",
       "dtype: int64"
      ]
     },
     "execution_count": 70,
     "metadata": {},
     "output_type": "execute_result"
    }
   ],
   "source": [
    "null_columns = test_data.columns[test_data.isnull().any()]\n",
    "test_data[null_columns].isnull().sum()"
   ]
  },
  {
   "cell_type": "markdown",
   "metadata": {},
   "source": [
    "> We can see that for the testing data,  the `Age` the `Cabin`and `Fare` has missing values."
   ]
  },
  {
   "cell_type": "markdown",
   "metadata": {},
   "source": [
    "### 2.3    Missing values in Cabin <a class=\"anchor\" id=\"2.3-bullet\"></a>"
   ]
  },
  {
   "cell_type": "markdown",
   "metadata": {},
   "source": [
    "\n",
    "First for the variable `Cabin` because they are too many missing datapoints on `Cabin`(almost 80% in both training and testing dataset), so we convert them to people with cabin and people without cabin for both train set and test set."
   ]
  },
  {
   "cell_type": "code",
   "execution_count": 71,
   "metadata": {},
   "outputs": [],
   "source": [
    "train_data['with_Cabin']= train_data[\"Cabin\"].apply(lambda x: 0 if type(x) == float else 1)\n",
    "test_data['with_Cabin'] = test_data[\"Cabin\"].apply(lambda x: 0 if type(x) == float else 1)\n",
    "train_data = train_data.drop([\"Cabin\"],axis = 1)\n",
    "test_data = test_data.drop([\"Cabin\"],axis = 1)"
   ]
  },
  {
   "cell_type": "markdown",
   "metadata": {},
   "source": [
    "### 2.4    Missing values in Embarked <a class=\"anchor\" id=\"2.3-bullet\"></a>\n"
   ]
  },
  {
   "cell_type": "code",
   "execution_count": 72,
   "metadata": {},
   "outputs": [
    {
     "data": {
      "text/plain": [
       "S    644\n",
       "C    168\n",
       "Q     77\n",
       "Name: Embarked, dtype: int64"
      ]
     },
     "execution_count": 72,
     "metadata": {},
     "output_type": "execute_result"
    }
   ],
   "source": [
    "most = train_data['Embarked'].value_counts()\n",
    "most"
   ]
  },
  {
   "cell_type": "code",
   "execution_count": 73,
   "metadata": {},
   "outputs": [],
   "source": [
    "\n",
    "train_data['Embarked']=train_data['Embarked'].fillna(\"S\")"
   ]
  },
  {
   "cell_type": "markdown",
   "metadata": {},
   "source": [
    ">Then we try to fill the NA value in column `embarked` in training set with highest frequency value. which is \"S\""
   ]
  },
  {
   "cell_type": "markdown",
   "metadata": {},
   "source": [
    "### 2.5    Missing values in Age, Fare <a class=\"anchor\" id=\"2.4-bullet\"></a>\n"
   ]
  },
  {
   "cell_type": "markdown",
   "metadata": {},
   "source": [
    "now we only have numeric variable `age` in both training and test data. and also `Fare` in testing data. we try to use the median to replace the missing value.\n"
   ]
  },
  {
   "cell_type": "code",
   "execution_count": 74,
   "metadata": {},
   "outputs": [],
   "source": [
    "train_data.fillna(train_data.median(), inplace=True)\n",
    "test_data.fillna(test_data.median(), inplace=True)"
   ]
  },
  {
   "cell_type": "markdown",
   "metadata": {},
   "source": [
    "### 2.6    Extract the response variable in training set <a class=\"anchor\" id=\"2.6-bullet\"></a>\n"
   ]
  },
  {
   "cell_type": "markdown",
   "metadata": {},
   "source": [
    " Let us extract the response variable `Survival` in  training set."
   ]
  },
  {
   "cell_type": "code",
   "execution_count": 75,
   "metadata": {},
   "outputs": [],
   "source": [
    "ytrain= train_data.loc[:,[\"Survived\"]]\n",
    "Xtrain= train_data.drop([\"Survived\"],axis =1)\n",
    "Xtest= test_data\n"
   ]
  },
  {
   "cell_type": "code",
   "execution_count": 76,
   "metadata": {},
   "outputs": [
    {
     "data": {
      "text/plain": [
       "549"
      ]
     },
     "execution_count": 76,
     "metadata": {},
     "output_type": "execute_result"
    }
   ],
   "source": [
    "np.sum(ytrain[\"Survived\"]==0)"
   ]
  },
  {
   "cell_type": "markdown",
   "metadata": {},
   "source": [
    "\n",
    "## 3 Exploratory Data Analysis <a class=\"anchor\" id=\"3-bullet\"></a>\n"
   ]
  },
  {
   "cell_type": "markdown",
   "metadata": {},
   "source": [
    "### 3.1   Age vs Survival<a class=\"anchor\" id=\"3.1-bullet\"></a>\n"
   ]
  },
  {
   "cell_type": "code",
   "execution_count": 77,
   "metadata": {},
   "outputs": [
    {
     "data": {
      "image/png": "[encoded data removed]",
      "text/plain": [
       "<Figure size 432x288 with 1 Axes>"
      ]
     },
     "metadata": {},
     "output_type": "display_data"
    }
   ],
   "source": [
    "sns.set(color_codes=True)\n",
    "sns.kdeplot(train_data[\"Age\"][train_data.Survived == 1], shade=True)\n",
    "sns.kdeplot(train_data[\"Age\"][train_data.Survived == 0], shade=True)\n",
    "plt.legend(['Survived', 'Died'])\n",
    "plt.title('Density Plot of Age of survived polutation and died population')\n",
    "plt.show()"
   ]
  },
  {
   "cell_type": "markdown",
   "metadata": {},
   "source": [
    ">We can see that the people from age 20 to 40 have higher chance of died. and the children and old people has more survival rate.The reason behind it is the policy which allow the young  and old to go first."
   ]
  },
  {
   "cell_type": "markdown",
   "metadata": {},
   "source": [
    "### 3.2   Fare vs Survival <a class=\"anchor\" id=\"3.2-bullet\"></a>\n"
   ]
  },
  {
   "cell_type": "code",
   "execution_count": 78,
   "metadata": {},
   "outputs": [
    {
     "data": {
      "image/png": "[encoded data removed]",
      "text/plain": [
       "<Figure size 432x288 with 1 Axes>"
      ]
     },
     "metadata": {},
     "output_type": "display_data"
    }
   ],
   "source": [
    "sns.set(color_codes=True)\n",
    "sns.kdeplot(train_data[\"Fare\"][train_data.Survived == 1], shade=True)\n",
    "sns.kdeplot(train_data[\"Fare\"][train_data.Survived == 0], shade=True)\n",
    "plt.legend(['Survived', 'Died'])\n",
    "plt.title('Density Plot of Fare for Surviving Population and Deceased Population')\n",
    "plt.show()"
   ]
  },
  {
   "cell_type": "markdown",
   "metadata": {},
   "source": [
    ">we can see the people who purchase the cheap ticket has higher chance of died."
   ]
  },
  {
   "cell_type": "markdown",
   "metadata": {},
   "source": [
    "### 3.3  Pclass vs Survival <a class=\"anchor\" id=\"3.3-bullet\"></a>\n"
   ]
  },
  {
   "cell_type": "code",
   "execution_count": 79,
   "metadata": {},
   "outputs": [
    {
     "data": {
      "image/png": "[encoded data removed]",
      "text/plain": [
       "<Figure size 432x288 with 1 Axes>"
      ]
     },
     "metadata": {},
     "output_type": "display_data"
    }
   ],
   "source": [
    "sns.barplot('Pclass', 'Survived', data=train_data)\n",
    "plt.show()\n"
   ]
  },
  {
   "cell_type": "markdown",
   "metadata": {},
   "source": [
    ">Unsurprisingly, being a first class passenger was higher chance of suvival.\n",
    "\n"
   ]
  },
  {
   "cell_type": "markdown",
   "metadata": {},
   "source": [
    "### 3.4 Embarked vs Survival <a class=\"anchor\" id=\"3.4-bullet\"></a>\n"
   ]
  },
  {
   "cell_type": "code",
   "execution_count": 80,
   "metadata": {},
   "outputs": [
    {
     "data": {
      "image/png": "[encoded data removed]",
      "text/plain": [
       "<Figure size 432x288 with 1 Axes>"
      ]
     },
     "metadata": {},
     "output_type": "display_data"
    }
   ],
   "source": [
    "sns.barplot('Embarked', 'Survived', data=train_data)\n",
    "plt.show()"
   ]
  },
  {
   "cell_type": "markdown",
   "metadata": {},
   "source": [
    ">We can see that the passengers who embark at portal Cherbourg has higher chance of survival."
   ]
  },
  {
   "cell_type": "markdown",
   "metadata": {},
   "source": [
    "### 3.5 with_cabin vs Survival <a class=\"anchor\" id=\"3.5-bullet\"></a>\n"
   ]
  },
  {
   "cell_type": "code",
   "execution_count": 81,
   "metadata": {},
   "outputs": [
    {
     "data": {
      "image/png": "[encoded data removed]",
      "text/plain": [
       "<Figure size 432x288 with 1 Axes>"
      ]
     },
     "metadata": {},
     "output_type": "display_data"
    }
   ],
   "source": [
    "sns.barplot('with_Cabin', 'Survived', data=train_data)\n",
    "plt.show()"
   ]
  },
  {
   "cell_type": "markdown",
   "metadata": {},
   "source": [
    ">We can see that the passengers who has their own cabin have higher chance of survival."
   ]
  },
  {
   "cell_type": "markdown",
   "metadata": {},
   "source": [
    "### 3.6 Correlation plot<a class=\"anchor\" id=\"3.6-bullet\"></a>\n"
   ]
  },
  {
   "cell_type": "code",
   "execution_count": 82,
   "metadata": {},
   "outputs": [
    {
     "data": {
      "image/png": "[encoded data removed]",
      "text/plain": [
       "<Figure size 432x288 with 2 Axes>"
      ]
     },
     "metadata": {},
     "output_type": "display_data"
    }
   ],
   "source": [
    "correalation = train_data.corr()\n",
    "\n",
    "sns.heatmap(correalation,vmax = 1,square = True,annot = True,vmin = -1)\n",
    "\n",
    "plt.show()"
   ]
  },
  {
   "cell_type": "markdown",
   "metadata": {},
   "source": [
    ">About the correlation between the features, we can see that  \"Pclass\",\"with_cabin\" seem to be highly related.We try to drop the variable who has less predictive power in term of survival rate, which is \"with_cabin\"."
   ]
  },
  {
   "cell_type": "code",
   "execution_count": 83,
   "metadata": {},
   "outputs": [],
   "source": [
    "train_data = train_data.drop([\"with_Cabin\"],axis = 1)\n",
    "test_data = test_data.drop([\"with_Cabin\"],axis = 1)"
   ]
  },
  {
   "cell_type": "markdown",
   "metadata": {},
   "source": [
    "## 4. Pre-processing before fitting the model  <a class=\"anchor\" id=\"4-bullet\"></a>"
   ]
  },
  {
   "cell_type": "code",
   "execution_count": 84,
   "metadata": {},
   "outputs": [],
   "source": [
    "num_pipeline = Pipeline([\n",
    "('imputer', SimpleImputer(strategy=\"median\")),\n",
    "('std_scaler', StandardScaler()),\n",
    "])\n",
    "\n",
    "num_attribs = list(Xtrain.drop([\"Sex\",\"Embarked\",\"Pclass\",\"SibSp\"], axis = 1))\n",
    "cat_attribs = [\"Sex\",\"Embarked\",\"Pclass\",\"SibSp\"]\n",
    "\n",
    "\n",
    "cat_pipeline = ColumnTransformer([\n",
    "(\"num\", num_pipeline, num_attribs),\n",
    "(\"cat\", OneHotEncoder(), cat_attribs),\n",
    "    \n",
    "])\n",
    "\n",
    "\n",
    "\n",
    "\n",
    "Xtrain = cat_pipeline.fit_transform(Xtrain)\n",
    "Xtest = cat_pipeline.fit_transform(Xtest)"
   ]
  },
  {
   "cell_type": "markdown",
   "metadata": {},
   "source": [
    "The two pipelines mainly do those transfroms\n",
    "1. Standardize features by removing the mean and scaling to unit variance\n",
    "2. Encode categorical features as a one-hot numeric array."
   ]
  },
  {
   "cell_type": "code",
   "execution_count": 85,
   "metadata": {},
   "outputs": [
    {
     "data": {
      "text/plain": [
       "(891, 19)"
      ]
     },
     "execution_count": 85,
     "metadata": {},
     "output_type": "execute_result"
    }
   ],
   "source": [
    "Xtrain.shape"
   ]
  },
  {
   "cell_type": "code",
   "execution_count": 86,
   "metadata": {},
   "outputs": [
    {
     "data": {
      "text/plain": [
       "(418, 19)"
      ]
     },
     "execution_count": 86,
     "metadata": {},
     "output_type": "execute_result"
    }
   ],
   "source": [
    "Xtest.shape"
   ]
  },
  {
   "cell_type": "markdown",
   "metadata": {},
   "source": [
    "We can see that the number of columns has been expanded. This is due to encoding for categorical variables."
   ]
  },
  {
   "cell_type": "markdown",
   "metadata": {},
   "source": [
    "Now we have all the data processing  complete."
   ]
  },
  {
   "cell_type": "markdown",
   "metadata": {},
   "source": [
    "## 5. Logistic Regression  <a class=\"anchor\" id=\"5-bullet\"></a>"
   ]
  },
  {
   "cell_type": "markdown",
   "metadata": {},
   "source": [
    "### 5.1 Fitting the model <a class=\"anchor\" id=\"5.1-bullet\"></a>\n"
   ]
  },
  {
   "cell_type": "markdown",
   "metadata": {},
   "source": [
    "First let us fit a simple logistic regression."
   ]
  },
  {
   "cell_type": "code",
   "execution_count": 27,
   "metadata": {},
   "outputs": [],
   "source": [
    "logit_pipe = Pipeline([\n",
    "    ('logistic_regression',LogisticRegression(solver='liblinear',penalty = 'l1',max_iter=10000))\n",
    "])\n",
    "\n",
    "logit_pipe.fit(Xtrain, ytrain);\n",
    "ypreds = logit_pipe.predict(Xtrain)\n",
    "\n",
    "\n",
    "\n",
    "\n",
    "\n"
   ]
  },
  {
   "cell_type": "code",
   "execution_count": 28,
   "metadata": {},
   "outputs": [
    {
     "data": {
      "image/png": "[encoded data removed]",
      "text/plain": [
       "<Figure size 432x288 with 2 Axes>"
      ]
     },
     "metadata": {},
     "output_type": "display_data"
    }
   ],
   "source": [
    "disp = plot_confusion_matrix(logit_pipe, Xtrain, ytrain,\n",
    "                                 display_labels=[\"dead\",\"survival\"],\n",
    "                                 cmap=plt.cm.Blues,)"
   ]
  },
  {
   "cell_type": "markdown",
   "metadata": {},
   "source": [
    ">From the confusion matrix, we can see the sensitivity is around 71% and the specificity is around 73%. those two number is quite balanced. it is good model if we have equal preference interm of those two criterion."
   ]
  },
  {
   "cell_type": "markdown",
   "metadata": {},
   "source": [
    "### 5.2 Calculation the  cross validation accuracy<a class=\"anchor\" id=\"5.2-bullet\"></a>\n"
   ]
  },
  {
   "cell_type": "markdown",
   "metadata": {},
   "source": [
    " We make accuracy the scoring criterion  and calculate 5-fold cross validation error."
   ]
  },
  {
   "cell_type": "code",
   "execution_count": 29,
   "metadata": {},
   "outputs": [
    {
     "name": "stdout",
     "output_type": "stream",
     "text": [
      "Logistic Model CV accuracy is 0.804\n"
     ]
    }
   ],
   "source": [
    "cv_scores = cross_val_score(logit_pipe, Xtrain, ytrain, cv = 5, scoring=make_scorer(accuracy_score))\n",
    "print(f\"Logistic Model CV accuracy is {cv_scores.mean():.3f}\")"
   ]
  },
  {
   "cell_type": "markdown",
   "metadata": {},
   "source": [
    "The logistic Model CV accuracy is not very good, we try to fine tune the model by using grid search."
   ]
  },
  {
   "cell_type": "markdown",
   "metadata": {},
   "source": [
    "### 5.3 Fine-tune the logistic model using grid search<a class=\"anchor\" id=\"5.3-bullet\"></a>\n"
   ]
  },
  {
   "cell_type": "markdown",
   "metadata": {},
   "source": [
    "We use the lasso regression to fine tune model parameter, here we introduce the penalty factor $\\lambda$. and we use the L1 regulation. the basic idea of it is passing a series of lambda value to the lasso model(in sklearn case, we pass the C, which is 1/ $\\lambda$).And we will find the $\\lambda$ which choose model with highest accruacy."
   ]
  },
  {
   "cell_type": "code",
   "execution_count": 30,
   "metadata": {},
   "outputs": [
    {
     "data": {
      "text/plain": [
       "GridSearchCV(cv=5, error_score=nan,\n",
       "             estimator=Pipeline(memory=None,\n",
       "                                steps=[('logistic_regression',\n",
       "                                        LogisticRegression(C=1.0,\n",
       "                                                           class_weight=None,\n",
       "                                                           dual=False,\n",
       "                                                           fit_intercept=True,\n",
       "                                                           intercept_scaling=1,\n",
       "                                                           l1_ratio=None,\n",
       "                                                           max_iter=10000,\n",
       "                                                           multi_class='auto',\n",
       "                                                           n_jobs=None,\n",
       "                                                           penalty='l1',\n",
       "                                                           random_state=None,\n",
       "                                                           solver='liblinear',\n",
       "                                                           tol=0.0001,\n",
       "                                                           verbose=0,\n",
       "                                                           warm_start=False))],\n",
       "                                verbose=Fal...\n",
       "       2.21221629e-01, 1.61026203e-01, 1.17210230e-01, 8.53167852e-02,\n",
       "       6.21016942e-02, 4.52035366e-02, 3.29034456e-02, 2.39502662e-02,\n",
       "       1.74332882e-02, 1.26896100e-02, 9.23670857e-03, 6.72335754e-03,\n",
       "       4.89390092e-03, 3.56224789e-03, 2.59294380e-03, 1.88739182e-03,\n",
       "       1.37382380e-03, 1.00000000e-03])},\n",
       "             pre_dispatch='2*n_jobs', refit=True, return_train_score=False,\n",
       "             scoring=make_scorer(accuracy_score), verbose=0)"
      ]
     },
     "execution_count": 30,
     "metadata": {},
     "output_type": "execute_result"
    }
   ],
   "source": [
    "logLam = np.linspace(np.log(0.1),np.log(1000), 30)\n",
    "lams = np.exp(logLam)\n",
    "param_grid = {'logistic_regression__C': 1/lams}\n",
    "\n",
    "\n",
    "lasso_gscv = GridSearchCV(logit_pipe, \n",
    "                          param_grid=param_grid, \n",
    "                          cv = 5,\n",
    "                          scoring=make_scorer(accuracy_score),\n",
    "                          n_jobs=-1,\n",
    "                          iid = True,refit = True)\n",
    "\n",
    "\n",
    "lasso_gscv.fit(Xtrain, ytrain)\n",
    "\n",
    "\n",
    "\n"
   ]
  },
  {
   "cell_type": "code",
   "execution_count": 31,
   "metadata": {},
   "outputs": [
    {
     "name": "stdout",
     "output_type": "stream",
     "text": [
      " lasso model accrucy is 0.807\n"
     ]
    }
   ],
   "source": [
    "print(f' lasso model accrucy is {lasso_gscv.best_score_:.3f}')\n",
    "lg_score = lasso_gscv.best_score_\n",
    "\n",
    "\n"
   ]
  },
  {
   "cell_type": "markdown",
   "metadata": {},
   "source": [
    "### 5.4  find the  $\\lambda$ optimize the model and plot the accuracy<a class=\"anchor\" id=\"5.4-bullet\"></a>\n"
   ]
  },
  {
   "cell_type": "code",
   "execution_count": 32,
   "metadata": {},
   "outputs": [
    {
     "data": {
      "text/plain": [
       "{'logistic_regression__C': 3.856620421163471}"
      ]
     },
     "execution_count": 32,
     "metadata": {},
     "output_type": "execute_result"
    }
   ],
   "source": [
    "lasso_gscv.best_params_"
   ]
  },
  {
   "cell_type": "markdown",
   "metadata": {},
   "source": [
    "  We can see the regularization strength $\\lambda$ is 1/C, which is equal to 0.26 ."
   ]
  },
  {
   "cell_type": "markdown",
   "metadata": {},
   "source": [
    "Plot the score for lasso as a function of the log-regularization parameter"
   ]
  },
  {
   "cell_type": "code",
   "execution_count": 33,
   "metadata": {},
   "outputs": [
    {
     "data": {
      "text/plain": [
       "Text(0, 0.5, 'accuracy')"
      ]
     },
     "execution_count": 33,
     "metadata": {},
     "output_type": "execute_result"
    },
    {
     "data": {
      "image/png": "[encoded data removed]",
      "text/plain": [
       "<Figure size 720x480 with 1 Axes>"
      ]
     },
     "metadata": {},
     "output_type": "display_data"
    }
   ],
   "source": [
    "cv_results = pd.DataFrame(lasso_gscv.cv_results_)\n",
    "fig, ax = plt.subplots(dpi = 120)\n",
    "ax.plot(logLam,lasso_gscv.cv_results_['mean_test_score'], label = 'ride')\n",
    "ax.set_xlabel(r'$\\log(\\lambda)$')\n",
    "ax.set_ylabel('accuracy')\n",
    "\n"
   ]
  },
  {
   "cell_type": "markdown",
   "metadata": {},
   "source": [
    "We can see as log($\\lambda$) increase, the model accuracy slowly increase at first, and then keep stable for a while. and drop dramatically when log($\\lambda$) is greater than 3."
   ]
  },
  {
   "cell_type": "markdown",
   "metadata": {},
   "source": [
    "## 6. Random Forest  <a class=\"anchor\" id=\"6-bullet\"></a>"
   ]
  },
  {
   "cell_type": "markdown",
   "metadata": {},
   "source": [
    "### 6.1 Fitting the model <a class=\"anchor\" id=\"6.1-bullet\"></a>\n"
   ]
  },
  {
   "cell_type": "markdown",
   "metadata": {},
   "source": [
    "Random forests, a tree-based machine learning technique, it is easy to interpreted and understanded. Random forests or random decision forests are an ensemble learning method for classification, regression and other tasks that operate by constructing a bagging of decision trees at training time and outputting the class that is the mode of the classes (classification) of the individual trees. compared to simple tree method. the Random forest reduce the varience and reduce the overfitting situation.\n",
    "\n"
   ]
  },
  {
   "cell_type": "code",
   "execution_count": 35,
   "metadata": {},
   "outputs": [
    {
     "data": {
      "text/plain": [
       "RandomForestClassifier(bootstrap=True, ccp_alpha=0.0, class_weight=None,\n",
       "                       criterion='gini', max_depth=None, max_features=1,\n",
       "                       max_leaf_nodes=None, max_samples=None,\n",
       "                       min_impurity_decrease=0.0, min_impurity_split=None,\n",
       "                       min_samples_leaf=1, min_samples_split=2,\n",
       "                       min_weight_fraction_leaf=0.0, n_estimators=500,\n",
       "                       n_jobs=None, oob_score=False, random_state=None,\n",
       "                       verbose=0, warm_start=False)"
      ]
     },
     "execution_count": 35,
     "metadata": {},
     "output_type": "execute_result"
    }
   ],
   "source": [
    "forest_reg = RandomForestClassifier(n_estimators=500, max_features=1)\n",
    "forest_reg.fit(Xtrain, ytrain)\n",
    "\n",
    "\n",
    "\n",
    "\n"
   ]
  },
  {
   "cell_type": "code",
   "execution_count": 36,
   "metadata": {},
   "outputs": [
    {
     "data": {
      "image/png": "[encoded data removed]",
      "text/plain": [
       "<Figure size 432x288 with 2 Axes>"
      ]
     },
     "metadata": {},
     "output_type": "display_data"
    }
   ],
   "source": [
    "disp = plot_confusion_matrix(forest_reg, Xtrain, ytrain,\n",
    "                                 display_labels=[\"died\",\"survival\"],\n",
    "                                 cmap=plt.cm.Blues,)"
   ]
  },
  {
   "cell_type": "markdown",
   "metadata": {},
   "source": [
    ">We can see that for the training set, the accuracy is very high compared to logistic model. it might suggest the existence of overfitting\n"
   ]
  },
  {
   "cell_type": "markdown",
   "metadata": {},
   "source": [
    "### 6.2  Calculation the  cross validation accuracy <a class=\"anchor\" id=\"6.2-bullet\"></a>\n"
   ]
  },
  {
   "cell_type": "code",
   "execution_count": 37,
   "metadata": {},
   "outputs": [
    {
     "name": "stdout",
     "output_type": "stream",
     "text": [
      "Model CV accuracy is 0.790\n"
     ]
    }
   ],
   "source": [
    "cv_scores = cross_val_score(forest_reg, Xtrain, ytrain, cv = 5, scoring=make_scorer(accuracy_score))\n",
    "print(f\"Model CV accuracy is {cv_scores.mean():.3f}\")"
   ]
  },
  {
   "cell_type": "markdown",
   "metadata": {},
   "source": [
    ">We can see that for training data, the training accruacy is very high, however, for the validation set, the cross validtion error is very low\n",
    "compared to training error. so the overfitting exsit. so we want to fine tune the model to reduce the overfitting."
   ]
  },
  {
   "cell_type": "markdown",
   "metadata": {},
   "source": [
    "### 6.3 Fine-tune  the RF using grid search <a class=\"anchor\" id=\"6.3-bullet\"></a>\n"
   ]
  },
  {
   "cell_type": "markdown",
   "metadata": {},
   "source": [
    "we try to fine-tune random forest model by tuning 4 parameters: n_estimators, max_features, max_depth.\n",
    "\n",
    ">n_estimators: The number of trees in the forest.<br>\n",
    ">min_samples_leaf: The minimum number of samples required to be at a leaf node.<br>\n",
    ">max_features:The number of features to consider when looking for the best split.<br>\n",
    ">max_depth:The maximum depth of the tree. <br>\n",
    "\n"
   ]
  },
  {
   "cell_type": "code",
   "execution_count": 38,
   "metadata": {},
   "outputs": [
    {
     "data": {
      "text/plain": [
       "GridSearchCV(cv=5, error_score=nan,\n",
       "             estimator=RandomForestClassifier(bootstrap=True, ccp_alpha=0.0,\n",
       "                                              class_weight=None,\n",
       "                                              criterion='gini', max_depth=None,\n",
       "                                              max_features=1,\n",
       "                                              max_leaf_nodes=None,\n",
       "                                              max_samples=None,\n",
       "                                              min_impurity_decrease=0.0,\n",
       "                                              min_impurity_split=None,\n",
       "                                              min_samples_leaf=1,\n",
       "                                              min_samples_split=2,\n",
       "                                              min_weight_fraction_leaf=0.0,\n",
       "                                              n_estimators=500, n_jobs=None,\n",
       "                                              oob_score=False,\n",
       "                                              random_state=None, verbose=0,\n",
       "                                              warm_start=False),\n",
       "             iid='deprecated', n_jobs=None,\n",
       "             param_grid=[{'max_depth': [None, 5, 6, 7, 8, 15, 20],\n",
       "                          'max_features': [2, 4, 6, 8, 15, 20],\n",
       "                          'min_samples_leaf': [1, 5, 10],\n",
       "                          'n_estimators': [3, 10, 20, 50, 100, 500]}],\n",
       "             pre_dispatch='2*n_jobs', refit=True, return_train_score=True,\n",
       "             scoring=make_scorer(accuracy_score), verbose=0)"
      ]
     },
     "execution_count": 38,
     "metadata": {},
     "output_type": "execute_result"
    }
   ],
   "source": [
    "param_grid = [\n",
    "{'n_estimators': [3, 10, 20,50,100,500], 'max_features': [2, 4, 6, 8,15,20],'max_depth':[None,5,6,7,8,15,20],'min_samples_leaf':[1,5,10]},\n",
    "]\n",
    "\n",
    "tree_gscv = GridSearchCV(forest_reg, param_grid, cv=5,\n",
    "scoring=make_scorer(accuracy_score),\n",
    "return_train_score=True)\n",
    "\n",
    "\n",
    "tree_gscv.fit(Xtrain, ytrain)\n"
   ]
  },
  {
   "cell_type": "code",
   "execution_count": 39,
   "metadata": {},
   "outputs": [
    {
     "name": "stdout",
     "output_type": "stream",
     "text": [
      "RF model accrucy is 0.831\n"
     ]
    }
   ],
   "source": [
    "\n",
    "print(f'RF model accrucy is {tree_gscv.best_score_:.3f}')\n",
    "tree_scoring = tree_gscv.best_score_\n"
   ]
  },
  {
   "cell_type": "markdown",
   "metadata": {},
   "source": [
    " >After tuning the parameter, there is a significant increase interm of model accrucy from 0.788 to 0.832.\n"
   ]
  },
  {
   "cell_type": "markdown",
   "metadata": {},
   "source": [
    "### 6.4 Find the optimized set of  parameter <a class=\"anchor\" id=\"6.4-bullet\"></a>\n"
   ]
  },
  {
   "cell_type": "code",
   "execution_count": 102,
   "metadata": {},
   "outputs": [
    {
     "data": {
      "text/plain": [
       "{'max_depth': 7,\n",
       " 'max_features': 15,\n",
       " 'min_samples_leaf': 1,\n",
       " 'n_estimators': 500}"
      ]
     },
     "execution_count": 102,
     "metadata": {},
     "output_type": "execute_result"
    }
   ],
   "source": [
    "tree_gscv.best_params_"
   ]
  },
  {
   "cell_type": "markdown",
   "metadata": {},
   "source": [
    ">We can see that the optimal model has the maxmium tree depth as 7. and try to consider 15 variable each time. \n",
    "and also, the minimal leave node has only has one element (can't split more)."
   ]
  },
  {
   "cell_type": "markdown",
   "metadata": {},
   "source": [
    "## 7. Support Vector Machine  <a class=\"anchor\" id=\"7-bullet\"></a>"
   ]
  },
  {
   "cell_type": "markdown",
   "metadata": {},
   "source": [
    "### 7.1 Fitting the model <a class=\"anchor\" id=\"7.1-bullet\"></a>\n"
   ]
  },
  {
   "cell_type": "markdown",
   "metadata": {},
   "source": [
    ">In machine learning, support-vector machines are supervised learning models with associated learning algorithms that analyze data used for classification and regression analysis.The SVM is effective in high dimensional spaces.\n",
    "\n"
   ]
  },
  {
   "cell_type": "code",
   "execution_count": 44,
   "metadata": {},
   "outputs": [
    {
     "data": {
      "text/plain": [
       "Pipeline(memory=None,\n",
       "         steps=[('SVM',\n",
       "                 SVC(C=1.0, break_ties=False, cache_size=200, class_weight=None,\n",
       "                     coef0=0.0, decision_function_shape='ovr', degree=3,\n",
       "                     gamma='auto', kernel='rbf', max_iter=-1, probability=False,\n",
       "                     random_state=None, shrinking=True, tol=0.001,\n",
       "                     verbose=False))],\n",
       "         verbose=False)"
      ]
     },
     "execution_count": 44,
     "metadata": {},
     "output_type": "execute_result"
    }
   ],
   "source": [
    "SVM_pipeline = Pipeline([\n",
    "    ('SVM',svm.SVC(kernel=\"rbf\",gamma =\"auto\"))\n",
    "    ])\n",
    "SVM_pipeline.fit(Xtrain,ytrain)\n",
    "\n",
    "\n",
    "\n",
    "\n"
   ]
  },
  {
   "cell_type": "code",
   "execution_count": 45,
   "metadata": {},
   "outputs": [
    {
     "data": {
      "image/png": "[encoded data removed]",
      "text/plain": [
       "<Figure size 432x288 with 2 Axes>"
      ]
     },
     "metadata": {},
     "output_type": "display_data"
    }
   ],
   "source": [
    "disp = plot_confusion_matrix(SVM_pipeline, Xtrain, ytrain,\n",
    "                                 display_labels=[\"died\",\"survival\"],\n",
    "                                 cmap=plt.cm.Blues,)"
   ]
  },
  {
   "cell_type": "markdown",
   "metadata": {},
   "source": [
    "We can see that the training accruacy is less accurate than tree model."
   ]
  },
  {
   "cell_type": "markdown",
   "metadata": {},
   "source": [
    "### 7.2  Calculate the cross validation accuracy<a class=\"anchor\" id=\"7.2-bullet\"></a>\n"
   ]
  },
  {
   "cell_type": "code",
   "execution_count": 46,
   "metadata": {},
   "outputs": [
    {
     "name": "stdout",
     "output_type": "stream",
     "text": [
      "Model CV accuracy is 0.816\n"
     ]
    }
   ],
   "source": [
    "\n",
    "cv_scores = cross_val_score(SVM_pipeline, Xtrain, ytrain, scoring=make_scorer(accuracy_score),cv=5)\n",
    "print(f\"Model CV accuracy is {cv_scores.mean():.3f}\")"
   ]
  },
  {
   "cell_type": "markdown",
   "metadata": {},
   "source": [
    "### 7.3 Fine tune the model using the grid search  <a class=\"anchor\" id=\"7.3-bullet\"></a>\n"
   ]
  },
  {
   "cell_type": "markdown",
   "metadata": {},
   "source": [
    ">Gamma are the parameters for a nonlinear support vector machine (SVM) with a Gaussian radial basis function kernel. And C decide if the margin is \"soft\" or \"hard\". a \"Soft\" margin allow more misclassfication around the seperation sphere."
   ]
  },
  {
   "cell_type": "code",
   "execution_count": 47,
   "metadata": {},
   "outputs": [
    {
     "data": {
      "text/plain": [
       "GridSearchCV(cv=5, error_score=nan,\n",
       "             estimator=Pipeline(memory=None,\n",
       "                                steps=[('SVM',\n",
       "                                        SVC(C=1.0, break_ties=False,\n",
       "                                            cache_size=200, class_weight=None,\n",
       "                                            coef0=0.0,\n",
       "                                            decision_function_shape='ovr',\n",
       "                                            degree=3, gamma='auto',\n",
       "                                            kernel='rbf', max_iter=-1,\n",
       "                                            probability=False,\n",
       "                                            random_state=None, shrinking=True,\n",
       "                                            tol=0.001, verbose=False))],\n",
       "                                verbose=False),\n",
       "             iid=True, n_jobs=-1,\n",
       "             param_grid={...\n",
       "       3.26530959e+00, 3.36735020e+00, 3.46939082e+00, 3.57143143e+00,\n",
       "       3.67347204e+00, 3.77551265e+00, 3.87755327e+00, 3.97959388e+00,\n",
       "       4.08163449e+00, 4.18367510e+00, 4.28571571e+00, 4.38775633e+00,\n",
       "       4.48979694e+00, 4.59183755e+00, 4.69387816e+00, 4.79591878e+00,\n",
       "       4.89795939e+00, 5.00000000e+00])},\n",
       "             pre_dispatch='2*n_jobs', refit='accuracy',\n",
       "             return_train_score=False,\n",
       "             scoring={'accuracy': make_scorer(accuracy_score)}, verbose=0)"
      ]
     },
     "execution_count": 47,
     "metadata": {},
     "output_type": "execute_result"
    }
   ],
   "source": [
    "param_grid = {'SVM__gamma': np.linspace(1e-5, 5),\n",
    "              'SVM__C':np.linspace(1e-3, 10,10)\n",
    "             \n",
    "             }\n",
    "\n",
    "svc_gscv = GridSearchCV(SVM_pipeline , \n",
    "                          param_grid=param_grid, \n",
    "                          cv = 5,\n",
    "                          scoring={'accuracy':make_scorer(accuracy_score), \n",
    "                                   },\n",
    "                          refit ='accuracy',\n",
    "                          n_jobs=-1,\n",
    "                          iid = True)\n",
    "\n",
    "svc_gscv.fit(Xtrain, ytrain)"
   ]
  },
  {
   "cell_type": "code",
   "execution_count": 50,
   "metadata": {},
   "outputs": [
    {
     "name": "stdout",
     "output_type": "stream",
     "text": [
      "SVC model accrucy is 0.824\n"
     ]
    }
   ],
   "source": [
    "svc_score = svc_gscv.best_score_\n",
    "print(f'SVC model accrucy is {svc_gscv.best_score_:.3f}')\n"
   ]
  },
  {
   "cell_type": "markdown",
   "metadata": {},
   "source": [
    "### 7.4 find the $\\gamma$  which optimize the model and plot the accuracy  <a class=\"anchor\" id=\"7.4-bullet\"></a>\n"
   ]
  },
  {
   "cell_type": "code",
   "execution_count": 52,
   "metadata": {},
   "outputs": [
    {
     "data": {
      "text/plain": [
       "{'SVM__C': 1.1119999999999999, 'SVM__gamma': 0.10205061224489796}"
      ]
     },
     "execution_count": 52,
     "metadata": {},
     "output_type": "execute_result"
    }
   ],
   "source": [
    "svc_gscv.best_params_"
   ]
  },
  {
   "cell_type": "markdown",
   "metadata": {},
   "source": [
    ">The optimal c is 1.11 and the optimal gamma is 0.102"
   ]
  },
  {
   "cell_type": "code",
   "execution_count": 53,
   "metadata": {},
   "outputs": [],
   "source": [
    "cv_results = pd.DataFrame(svc_gscv.cv_results_)\n"
   ]
  },
  {
   "cell_type": "code",
   "execution_count": 54,
   "metadata": {},
   "outputs": [
    {
     "data": {
      "text/plain": [
       "Text(0.5, 1.0, 'accuracy Results')"
      ]
     },
     "execution_count": 54,
     "metadata": {},
     "output_type": "execute_result"
    },
    {
     "data": {
      "image/png": "[encoded data removed]",
      "text/plain": [
       "<Figure size 720x480 with 1 Axes>"
      ]
     },
     "metadata": {
      "needs_background": "light"
     },
     "output_type": "display_data"
    }
   ],
   "source": [
    "fig, ax = plt.subplots(dpi=120)\n",
    "sns.lineplot(data = cv_results, x = 'param_SVM__gamma', y = 'mean_test_accuracy',ax = ax)\n",
    "ax.set_title('accuracy Results')"
   ]
  },
  {
   "cell_type": "markdown",
   "metadata": {},
   "source": [
    ">We can see as gammma increase, the model accuracy increase fast and gradually drop down."
   ]
  },
  {
   "cell_type": "markdown",
   "metadata": {},
   "source": [
    "## 8. Naive Bayes  <a class=\"anchor\" id=\"7=8-bullet\"></a>"
   ]
  },
  {
   "cell_type": "markdown",
   "metadata": {},
   "source": [
    "### 8.1 Fitting the model <a class=\"anchor\" id=\"8.1-bullet\"></a>\n"
   ]
  },
  {
   "cell_type": "code",
   "execution_count": 40,
   "metadata": {},
   "outputs": [],
   "source": [
    "NB_pipeline = Pipeline([\n",
    "    ('clf', GaussianNB())\n",
    "])\n",
    "\n",
    "NB_pipeline.fit(Xtrain,ytrain)\n",
    "\n",
    "ypred = NB_pipeline.predict(Xtrain)\n"
   ]
  },
  {
   "cell_type": "code",
   "execution_count": 41,
   "metadata": {},
   "outputs": [
    {
     "data": {
      "image/png": "[encoded data removed]",
      "text/plain": [
       "<Figure size 432x288 with 2 Axes>"
      ]
     },
     "metadata": {},
     "output_type": "display_data"
    }
   ],
   "source": [
    "disp = plot_confusion_matrix(NB_pipeline, Xtrain, ytrain,\n",
    "                                 display_labels=[\"died\",\"survival\"],\n",
    "                                 cmap=plt.cm.Blues,)"
   ]
  },
  {
   "cell_type": "markdown",
   "metadata": {},
   "source": [
    ">We can see the naive bayes model has very low specificity(0.07), which means only few of dead people are actually predicted as dead. but very high sensitivity(98%). The Naive bayes model tend to predict every people as survival."
   ]
  },
  {
   "cell_type": "markdown",
   "metadata": {},
   "source": [
    "### 8.2  Calculating the cross validation accuracy <a class=\"anchor\" id=\"8.1-bullet\"></a>\n"
   ]
  },
  {
   "cell_type": "code",
   "execution_count": 42,
   "metadata": {},
   "outputs": [
    {
     "name": "stdout",
     "output_type": "stream",
     "text": [
      "Model CV accuracy is 0.415\n"
     ]
    }
   ],
   "source": [
    "cv_scores = cross_val_score(NB_pipeline, Xtrain, ytrain, scoring=make_scorer(accuracy_score),cv=5)\n",
    "print(f\"Model CV accuracy is {cv_scores.mean():.3f}\")"
   ]
  },
  {
   "cell_type": "markdown",
   "metadata": {},
   "source": [
    ">We can see that the Naive bayes has very low model CV accuracy compared to rest of model. so we want to fine tune the model using grid search."
   ]
  },
  {
   "cell_type": "markdown",
   "metadata": {},
   "source": [
    "### 8.3  Fine tune the model with grid search <a class=\"anchor\" id=\"8.3-bullet\"></a>\n"
   ]
  },
  {
   "cell_type": "markdown",
   "metadata": {},
   "source": [
    "The cross validation accuracy is very bad compared to logistic regression, random forest and SVM. so we need to fine tune the model. we can pass a series priors and smoothing variable into grid search."
   ]
  },
  {
   "cell_type": "code",
   "execution_count": 43,
   "metadata": {},
   "outputs": [
    {
     "name": "stdout",
     "output_type": "stream",
     "text": [
      "Model CV accuracy is 0.775\n"
     ]
    }
   ],
   "source": [
    "parameters = {\n",
    "    'clf__priors': [None,[0.5, 0.5],[0.32,0.68]],\n",
    "    'clf__var_smoothing': np.logspace(0,-9, num=100)\n",
    "}\n",
    "\n",
    "grid_NB = GridSearchCV(NB_pipeline, param_grid=parameters)\n",
    "\n",
    "grid_NB.fit(Xtrain, ytrain)\n",
    "y_pred = grid_NB.predict(Xtrain)\n",
    "\n",
    "nb_score = grid_NB.best_score_\n",
    "print(f\"Model CV accuracy is {grid_NB.best_score_:.3f}\")\n",
    "\n"
   ]
  },
  {
   "cell_type": "markdown",
   "metadata": {},
   "source": [
    "the Model CV accuracy has improved a lot by fine tuning the parameters, it has been imporved from 0.415 to 0.775"
   ]
  },
  {
   "cell_type": "markdown",
   "metadata": {},
   "source": [
    "### 8.4  find the parameters which optimize the model accuracy <a class=\"anchor\" id=\"8.4-bullet\"></a>\n"
   ]
  },
  {
   "cell_type": "code",
   "execution_count": 122,
   "metadata": {},
   "outputs": [
    {
     "data": {
      "text/plain": [
       "{'clf__priors': None, 'clf__var_smoothing': 0.04328761281083057}"
      ]
     },
     "execution_count": 122,
     "metadata": {},
     "output_type": "execute_result"
    }
   ],
   "source": [
    "grid_NB.best_params_"
   ]
  },
  {
   "cell_type": "markdown",
   "metadata": {},
   "source": [
    " >The optimal parameter of prior is none, which means the prior is not predetermined and just calculated by percentage. And the optimal smoothing factor is 0.043."
   ]
  },
  {
   "cell_type": "markdown",
   "metadata": {},
   "source": [
    "### 9.1 Fitting the model <a class=\"anchor\" id=\"9.1-bullet\"></a>\n"
   ]
  },
  {
   "cell_type": "code",
   "execution_count": 51,
   "metadata": {},
   "outputs": [
    {
     "data": {
      "text/plain": [
       "Pipeline(memory=None,\n",
       "         steps=[('clf',\n",
       "                 MLPClassifier(activation='relu', alpha=0.0001,\n",
       "                               batch_size='auto', beta_1=0.9, beta_2=0.999,\n",
       "                               early_stopping=False, epsilon=1e-08,\n",
       "                               hidden_layer_sizes=(100,),\n",
       "                               learning_rate='constant',\n",
       "                               learning_rate_init=0.001, max_fun=15000,\n",
       "                               max_iter=300, momentum=0.9, n_iter_no_change=10,\n",
       "                               nesterovs_momentum=True, power_t=0.5,\n",
       "                               random_state=1, shuffle=True, solver='adam',\n",
       "                               tol=0.0001, validation_fraction=0.1,\n",
       "                               verbose=False, warm_start=False))],\n",
       "         verbose=False)"
      ]
     },
     "execution_count": 51,
     "metadata": {},
     "output_type": "execute_result"
    }
   ],
   "source": [
    "MP_pipeline = Pipeline([\n",
    "    ('clf', MLPClassifier(random_state=1, max_iter=300))\n",
    "])\n",
    "\n",
    "MP_pipeline.fit(Xtrain,ytrain)\n",
    "\n",
    "\n",
    "\n"
   ]
  },
  {
   "cell_type": "code",
   "execution_count": 52,
   "metadata": {},
   "outputs": [
    {
     "data": {
      "image/png": "[encoded data removed]",
      "text/plain": [
       "<Figure size 432x288 with 2 Axes>"
      ]
     },
     "metadata": {},
     "output_type": "display_data"
    }
   ],
   "source": [
    "disp = plot_confusion_matrix(MP_pipeline, Xtrain, ytrain,\n",
    "                                 display_labels=[\"died\",\"survival\"],\n",
    "                                 cmap=plt.cm.Blues,)"
   ]
  },
  {
   "cell_type": "markdown",
   "metadata": {},
   "source": [
    ">We can see that specificity is very high(94%). The sensitivity is lower (75%).which means around 25% of survival people are predicted as dead. We can see that the Perceptron tend to predict people as dead"
   ]
  },
  {
   "cell_type": "markdown",
   "metadata": {},
   "source": [
    "### 9.2 Calculate the cross validation accuracy<a class=\"anchor\" id=\"9.2-bullet\"></a>\n"
   ]
  },
  {
   "cell_type": "code",
   "execution_count": 53,
   "metadata": {},
   "outputs": [
    {
     "name": "stdout",
     "output_type": "stream",
     "text": [
      "Model CV accuracy is 0.827\n"
     ]
    }
   ],
   "source": [
    "cv_scores = cross_val_score(MP_pipeline, Xtrain, ytrain, scoring=make_scorer(accuracy_score),cv=5)\n",
    "print(f\"Model CV accuracy is {cv_scores.mean():.3f}\")"
   ]
  },
  {
   "cell_type": "markdown",
   "metadata": {},
   "source": [
    "We can see that the multi-layer perceptron has a highest cross validation (0.827) among all models. "
   ]
  },
  {
   "cell_type": "markdown",
   "metadata": {},
   "source": [
    "### 9.3 Fine tune the Multi-layer Perceptron using grid search <a class=\"anchor\" id=\"9.3-bullet\"></a>\n"
   ]
  },
  {
   "cell_type": "markdown",
   "metadata": {},
   "source": [
    ">for the Multi-layer Perceptron model, we try to fine tune the model by adjust those 5 parameters.<br>\n",
    "1. hidden_layer_sizes: the hidden layers in the nerual network.<br> \n",
    "2. activation: Activation function for the hidden layer.<br>\n",
    "3. batch_size:Size of minibatches for stochastic optimizers.<br>\n",
    "4. alpha:L2 penalty (regularization term) parameter.<br>\n",
    "5. learning_rate_init: how far it will go for each step.<br>\n",
    "\n",
    "\n"
   ]
  },
  {
   "cell_type": "code",
   "execution_count": 54,
   "metadata": {},
   "outputs": [
    {
     "data": {
      "text/plain": [
       "GridSearchCV(cv=None, error_score=nan,\n",
       "             estimator=Pipeline(memory=None,\n",
       "                                steps=[('clf',\n",
       "                                        MLPClassifier(activation='relu',\n",
       "                                                      alpha=0.0001,\n",
       "                                                      batch_size='auto',\n",
       "                                                      beta_1=0.9, beta_2=0.999,\n",
       "                                                      early_stopping=False,\n",
       "                                                      epsilon=1e-08,\n",
       "                                                      hidden_layer_sizes=(100,),\n",
       "                                                      learning_rate='constant',\n",
       "                                                      learning_rate_init=0.001,\n",
       "                                                      max_fun=15000,\n",
       "                                                      max_iter=300,\n",
       "                                                      momentum=0.9,\n",
       "                                                      n_iter_no_change=10,\n",
       "                                                      nesterovs_...\n",
       "                                                      verbose=False,\n",
       "                                                      warm_start=False))],\n",
       "                                verbose=False),\n",
       "             iid='deprecated', n_jobs=None,\n",
       "             param_grid={'clf__activation': ['sgd', 'tanh'],\n",
       "                         'clf__alpha': [0.0001, 0.01, 1],\n",
       "                         'clf__batch_size': ['auto', 50, 100],\n",
       "                         'clf__hidden_layer_sizes': [(100, 100), 100],\n",
       "                         'clf__learning_rate_init': [0.001, 0.1, 10]},\n",
       "             pre_dispatch='2*n_jobs', refit=True, return_train_score=False,\n",
       "             scoring=None, verbose=0)"
      ]
     },
     "execution_count": 54,
     "metadata": {},
     "output_type": "execute_result"
    }
   ],
   "source": [
    "parameters = {\n",
    "    'clf__hidden_layer_sizes': [(100, 100), (100)],\n",
    "    'clf__activation':['sgd','tanh'],\n",
    "    'clf__batch_size':['auto',50,100],\n",
    "    'clf__alpha':[0.0001,0.01,1],\n",
    "     'clf__learning_rate_init':[0.001,0.1,10],\n",
    "    \n",
    "}\n",
    "\n",
    "\n",
    "grid_MP = GridSearchCV(MP_pipeline, param_grid=parameters)\n",
    "grid_MP.fit(Xtrain,ytrain)\n"
   ]
  },
  {
   "cell_type": "code",
   "execution_count": 55,
   "metadata": {},
   "outputs": [
    {
     "name": "stdout",
     "output_type": "stream",
     "text": [
      "Model CV accuracy is 0.826\n"
     ]
    }
   ],
   "source": [
    "mp_score = grid_MP.best_score_\n",
    "print(f\"Model CV accuracy is {grid_MP.best_score_:.3f}\")"
   ]
  },
  {
   "cell_type": "markdown",
   "metadata": {},
   "source": [
    "### 9.4 Fine the optimized set of variables <a class=\"anchor\" id=\"9.3-bullet\"></a>\n"
   ]
  },
  {
   "cell_type": "code",
   "execution_count": 132,
   "metadata": {},
   "outputs": [
    {
     "data": {
      "text/plain": [
       "{'clf__activation': 'tanh',\n",
       " 'clf__alpha': 0.01,\n",
       " 'clf__batch_size': 100,\n",
       " 'clf__hidden_layer_sizes': (100, 100),\n",
       " 'clf__learning_rate_init': 0.001}"
      ]
     },
     "execution_count": 132,
     "metadata": {},
     "output_type": "execute_result"
    }
   ],
   "source": [
    "grid_MP.best_params_"
   ]
  },
  {
   "cell_type": "markdown",
   "metadata": {},
   "source": [
    ">We can see that the optimal parameter are: tanh as activation function, penalty as 0.01, learning rate as 0.001, batch size as 100\n",
    "    and hidden layer as 100*100.\n"
   ]
  },
  {
   "cell_type": "markdown",
   "metadata": {},
   "source": [
    "## 10 Write the output<a class=\"anchor\" id=\"10-bullet\"></a>"
   ]
  },
  {
   "cell_type": "code",
   "execution_count": 56,
   "metadata": {},
   "outputs": [
    {
     "data": {
      "text/html": [
       "<div>\n",
       "<style scoped>\n",
       "    .dataframe tbody tr th:only-of-type {\n",
       "        vertical-align: middle;\n",
       "    }\n",
       "\n",
       "    .dataframe tbody tr th {\n",
       "        vertical-align: top;\n",
       "    }\n",
       "\n",
       "    .dataframe thead th {\n",
       "        text-align: right;\n",
       "    }\n",
       "</style>\n",
       "<table border=\"1\" class=\"dataframe\">\n",
       "  <thead>\n",
       "    <tr style=\"text-align: right;\">\n",
       "      <th></th>\n",
       "      <th>Model</th>\n",
       "      <th>Score</th>\n",
       "    </tr>\n",
       "  </thead>\n",
       "  <tbody>\n",
       "    <tr>\n",
       "      <th>1</th>\n",
       "      <td>Randomforest</td>\n",
       "      <td>0.830532</td>\n",
       "    </tr>\n",
       "    <tr>\n",
       "      <th>4</th>\n",
       "      <td>Multiple Perceptron</td>\n",
       "      <td>0.826050</td>\n",
       "    </tr>\n",
       "    <tr>\n",
       "      <th>2</th>\n",
       "      <td>support vector machine</td>\n",
       "      <td>0.823793</td>\n",
       "    </tr>\n",
       "    <tr>\n",
       "      <th>0</th>\n",
       "      <td>Logistic Regression</td>\n",
       "      <td>0.806958</td>\n",
       "    </tr>\n",
       "    <tr>\n",
       "      <th>3</th>\n",
       "      <td>Naive Bayes</td>\n",
       "      <td>0.774509</td>\n",
       "    </tr>\n",
       "  </tbody>\n",
       "</table>\n",
       "</div>"
      ],
      "text/plain": [
       "                    Model     Score\n",
       "1            Randomforest  0.830532\n",
       "4     Multiple Perceptron  0.826050\n",
       "2  support vector machine  0.823793\n",
       "0     Logistic Regression  0.806958\n",
       "3             Naive Bayes  0.774509"
      ]
     },
     "execution_count": 56,
     "metadata": {},
     "output_type": "execute_result"
    }
   ],
   "source": [
    "models = pd.DataFrame({\n",
    "    'Model': ['Logistic Regression', 'Randomforest', 'support vector machine', \n",
    "               'Naive Bayes', 'Multiple Perceptron' ],\n",
    "    'Score': [lg_score,tree_scoring, svc_score, \n",
    "              nb_score, mp_score]})\n",
    "models.sort_values(by='Score', ascending=False)"
   ]
  },
  {
   "cell_type": "markdown",
   "metadata": {},
   "source": [
    ">he randomforest has highest accuracy, so we try to output the result using random forest model."
   ]
  },
  {
   "cell_type": "code",
   "execution_count": 93,
   "metadata": {},
   "outputs": [
    {
     "data": {
      "text/html": [
       "<div>\n",
       "<style scoped>\n",
       "    .dataframe tbody tr th:only-of-type {\n",
       "        vertical-align: middle;\n",
       "    }\n",
       "\n",
       "    .dataframe tbody tr th {\n",
       "        vertical-align: top;\n",
       "    }\n",
       "\n",
       "    .dataframe thead th {\n",
       "        text-align: right;\n",
       "    }\n",
       "</style>\n",
       "<table border=\"1\" class=\"dataframe\">\n",
       "  <thead>\n",
       "    <tr style=\"text-align: right;\">\n",
       "      <th></th>\n",
       "      <th>PassengerId</th>\n",
       "    </tr>\n",
       "  </thead>\n",
       "  <tbody>\n",
       "    <tr>\n",
       "      <th>0</th>\n",
       "      <td>892</td>\n",
       "    </tr>\n",
       "    <tr>\n",
       "      <th>1</th>\n",
       "      <td>893</td>\n",
       "    </tr>\n",
       "    <tr>\n",
       "      <th>2</th>\n",
       "      <td>894</td>\n",
       "    </tr>\n",
       "    <tr>\n",
       "      <th>3</th>\n",
       "      <td>895</td>\n",
       "    </tr>\n",
       "    <tr>\n",
       "      <th>4</th>\n",
       "      <td>896</td>\n",
       "    </tr>\n",
       "    <tr>\n",
       "      <th>...</th>\n",
       "      <td>...</td>\n",
       "    </tr>\n",
       "    <tr>\n",
       "      <th>413</th>\n",
       "      <td>1305</td>\n",
       "    </tr>\n",
       "    <tr>\n",
       "      <th>414</th>\n",
       "      <td>1306</td>\n",
       "    </tr>\n",
       "    <tr>\n",
       "      <th>415</th>\n",
       "      <td>1307</td>\n",
       "    </tr>\n",
       "    <tr>\n",
       "      <th>416</th>\n",
       "      <td>1308</td>\n",
       "    </tr>\n",
       "    <tr>\n",
       "      <th>417</th>\n",
       "      <td>1309</td>\n",
       "    </tr>\n",
       "  </tbody>\n",
       "</table>\n",
       "<p>418 rows × 1 columns</p>\n",
       "</div>"
      ],
      "text/plain": [
       "     PassengerId\n",
       "0            892\n",
       "1            893\n",
       "2            894\n",
       "3            895\n",
       "4            896\n",
       "..           ...\n",
       "413         1305\n",
       "414         1306\n",
       "415         1307\n",
       "416         1308\n",
       "417         1309\n",
       "\n",
       "[418 rows x 1 columns]"
      ]
     },
     "execution_count": 93,
     "metadata": {},
     "output_type": "execute_result"
    }
   ],
   "source": [
    "ypred = tree_gscv.predict(Xtest)\n"
   ]
  },
  {
   "cell_type": "code",
   "execution_count": 105,
   "metadata": {},
   "outputs": [],
   "source": [
    "submission = pd.DataFrame({\n",
    "        \"PassengerId\":test_passid,\n",
    "        \"Survived\": ypred\n",
    "    })\n",
    "\n",
    "submission.to_csv('submission.csv', index=False)"
   ]
  },
  {
   "cell_type": "markdown",
   "metadata": {},
   "source": [
    "<img src=\"WeChatccbed304d2ddb0e203892e99c98a30ae.png\"> "
   ]
  },
  {
   "cell_type": "markdown",
   "metadata": {},
   "source": [
    "## 11 Reference<a class=\"anchor\" id=\"11-bullet\"></a>"
   ]
  },
  {
   "cell_type": "markdown",
   "metadata": {},
   "source": [
    "Support Vector Machine,https://scikit-learn.org/stable/modules/svm.html<br>\n",
    "Titanic science solution https://www.kaggle.com/startupsci/titanic-data-science-solutions<br>\n",
    "Titanic - Machine Learning from Disaster https://www.kaggle.com/santhraul/titanic-machine-learning-from-disaster<br>\n",
    "Random Forest https://scikit-learn.org/stable/modules/generated/sklearn.ensemble.RandomForestClassifier.html<br>\n",
    "\n"
   ]
  }
 ],
 "metadata": {
  "kernelspec": {
   "display_name": "Python 3",
   "language": "python",
   "name": "python3"
  },
  "language_info": {
   "codemirror_mode": {
    "name": "ipython",
    "version": 3
   },
   "file_extension": ".py",
   "mimetype": "text/x-python",
   "name": "python",
   "nbconvert_exporter": "python",
   "pygments_lexer": "ipython3",
   "version": "3.7.6"
  }
 },
 "nbformat": 4,
 "nbformat_minor": 4
}
